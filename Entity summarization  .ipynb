{
 "cells": [
  {
   "cell_type": "code",
   "execution_count": 1,
   "metadata": {},
   "outputs": [],
   "source": [
    "import pandas as pd\n",
    "\n",
    "data = pd.read_csv('abcnews-date-text.csv', error_bad_lines=False);\n",
    "data_text = data[['headline_text']]\n",
    "data_text['index'] = data_text.index\n",
    "documents = data_text"
   ]
  },
  {
   "cell_type": "code",
   "execution_count": 2,
   "metadata": {},
   "outputs": [
    {
     "data": {
      "text/plain": [
       "158224"
      ]
     },
     "execution_count": 2,
     "metadata": {},
     "output_type": "execute_result"
    }
   ],
   "source": [
    "len(documents)\n"
   ]
  },
  {
   "cell_type": "markdown",
   "metadata": {},
   "source": [
    "Data Preprocessing¶\n"
   ]
  },
  {
   "cell_type": "code",
   "execution_count": 3,
   "metadata": {},
   "outputs": [
    {
     "name": "stderr",
     "output_type": "stream",
     "text": [
      "C:\\Users\\saigiriraj\\Anaconda3\\lib\\site-packages\\gensim\\utils.py:1197: UserWarning: detected Windows; aliasing chunkize to chunkize_serial\n",
      "  warnings.warn(\"detected Windows; aliasing chunkize to chunkize_serial\")\n"
     ]
    }
   ],
   "source": [
    "import gensim\n",
    "from gensim.utils import simple_preprocess\n",
    "from gensim.parsing.preprocessing import STOPWORDS\n",
    "from nltk.stem import WordNetLemmatizer, SnowballStemmer\n",
    "from nltk.stem.porter import *\n",
    "import numpy as np\n",
    "np.random.seed(2018)"
   ]
  },
  {
   "cell_type": "code",
   "execution_count": 4,
   "metadata": {},
   "outputs": [
    {
     "name": "stdout",
     "output_type": "stream",
     "text": [
      "[nltk_data] Downloading package wordnet to\n",
      "[nltk_data]     C:\\Users\\saigiriraj\\AppData\\Roaming\\nltk_data...\n",
      "[nltk_data]   Package wordnet is already up-to-date!\n"
     ]
    },
    {
     "data": {
      "text/plain": [
       "True"
      ]
     },
     "execution_count": 4,
     "metadata": {},
     "output_type": "execute_result"
    }
   ],
   "source": [
    "import nltk\n",
    "nltk.download('wordnet')"
   ]
  },
  {
   "cell_type": "code",
   "execution_count": 5,
   "metadata": {},
   "outputs": [
    {
     "name": "stdout",
     "output_type": "stream",
     "text": [
      "think\n"
     ]
    }
   ],
   "source": [
    "print(WordNetLemmatizer().lemmatize('thought', pos='v'))\n"
   ]
  },
  {
   "cell_type": "code",
   "execution_count": 6,
   "metadata": {},
   "outputs": [
    {
     "data": {
      "text/html": [
       "<div>\n",
       "<style scoped>\n",
       "    .dataframe tbody tr th:only-of-type {\n",
       "        vertical-align: middle;\n",
       "    }\n",
       "\n",
       "    .dataframe tbody tr th {\n",
       "        vertical-align: top;\n",
       "    }\n",
       "\n",
       "    .dataframe thead th {\n",
       "        text-align: right;\n",
       "    }\n",
       "</style>\n",
       "<table border=\"1\" class=\"dataframe\">\n",
       "  <thead>\n",
       "    <tr style=\"text-align: right;\">\n",
       "      <th></th>\n",
       "      <th>original word</th>\n",
       "      <th>stemmed</th>\n",
       "    </tr>\n",
       "  </thead>\n",
       "  <tbody>\n",
       "    <tr>\n",
       "      <th>0</th>\n",
       "      <td>caresses</td>\n",
       "      <td>caress</td>\n",
       "    </tr>\n",
       "    <tr>\n",
       "      <th>1</th>\n",
       "      <td>flies</td>\n",
       "      <td>fli</td>\n",
       "    </tr>\n",
       "    <tr>\n",
       "      <th>2</th>\n",
       "      <td>dies</td>\n",
       "      <td>die</td>\n",
       "    </tr>\n",
       "    <tr>\n",
       "      <th>3</th>\n",
       "      <td>mules</td>\n",
       "      <td>mule</td>\n",
       "    </tr>\n",
       "    <tr>\n",
       "      <th>4</th>\n",
       "      <td>denied</td>\n",
       "      <td>deni</td>\n",
       "    </tr>\n",
       "    <tr>\n",
       "      <th>5</th>\n",
       "      <td>died</td>\n",
       "      <td>die</td>\n",
       "    </tr>\n",
       "    <tr>\n",
       "      <th>6</th>\n",
       "      <td>agreed</td>\n",
       "      <td>agre</td>\n",
       "    </tr>\n",
       "    <tr>\n",
       "      <th>7</th>\n",
       "      <td>owned</td>\n",
       "      <td>own</td>\n",
       "    </tr>\n",
       "    <tr>\n",
       "      <th>8</th>\n",
       "      <td>humbled</td>\n",
       "      <td>humbl</td>\n",
       "    </tr>\n",
       "    <tr>\n",
       "      <th>9</th>\n",
       "      <td>sized</td>\n",
       "      <td>size</td>\n",
       "    </tr>\n",
       "    <tr>\n",
       "      <th>10</th>\n",
       "      <td>meeting</td>\n",
       "      <td>meet</td>\n",
       "    </tr>\n",
       "    <tr>\n",
       "      <th>11</th>\n",
       "      <td>stating</td>\n",
       "      <td>state</td>\n",
       "    </tr>\n",
       "    <tr>\n",
       "      <th>12</th>\n",
       "      <td>siezing</td>\n",
       "      <td>siez</td>\n",
       "    </tr>\n",
       "    <tr>\n",
       "      <th>13</th>\n",
       "      <td>itemization</td>\n",
       "      <td>item</td>\n",
       "    </tr>\n",
       "    <tr>\n",
       "      <th>14</th>\n",
       "      <td>sensational</td>\n",
       "      <td>sensat</td>\n",
       "    </tr>\n",
       "    <tr>\n",
       "      <th>15</th>\n",
       "      <td>traditional</td>\n",
       "      <td>tradit</td>\n",
       "    </tr>\n",
       "    <tr>\n",
       "      <th>16</th>\n",
       "      <td>reference</td>\n",
       "      <td>refer</td>\n",
       "    </tr>\n",
       "    <tr>\n",
       "      <th>17</th>\n",
       "      <td>colonizer</td>\n",
       "      <td>colon</td>\n",
       "    </tr>\n",
       "    <tr>\n",
       "      <th>18</th>\n",
       "      <td>plotted</td>\n",
       "      <td>plot</td>\n",
       "    </tr>\n",
       "  </tbody>\n",
       "</table>\n",
       "</div>"
      ],
      "text/plain": [
       "   original word stemmed\n",
       "0       caresses  caress\n",
       "1          flies     fli\n",
       "2           dies     die\n",
       "3          mules    mule\n",
       "4         denied    deni\n",
       "5           died     die\n",
       "6         agreed    agre\n",
       "7          owned     own\n",
       "8        humbled   humbl\n",
       "9          sized    size\n",
       "10       meeting    meet\n",
       "11       stating   state\n",
       "12       siezing    siez\n",
       "13   itemization    item\n",
       "14   sensational  sensat\n",
       "15   traditional  tradit\n",
       "16     reference   refer\n",
       "17     colonizer   colon\n",
       "18       plotted    plot"
      ]
     },
     "execution_count": 6,
     "metadata": {},
     "output_type": "execute_result"
    }
   ],
   "source": [
    "stemmer = SnowballStemmer('english')\n",
    "original_words = ['caresses', 'flies', 'dies', 'mules', 'denied','died', 'agreed', 'owned', \n",
    "           'humbled', 'sized','meeting', 'stating', 'siezing', 'itemization','sensational', \n",
    "           'traditional', 'reference', 'colonizer','plotted']\n",
    "singles = [stemmer.stem(plural) for plural in original_words]\n",
    "pd.DataFrame(data = {'original word': original_words, 'stemmed': singles})"
   ]
  },
  {
   "cell_type": "code",
   "execution_count": 7,
   "metadata": {},
   "outputs": [],
   "source": [
    "def lemmatize_stemming(text):\n",
    "    return stemmer.stem(WordNetLemmatizer().lemmatize(text, pos='v'))\n",
    "\n",
    "def preprocess(text):\n",
    "    result = []\n",
    "    for token in gensim.utils.simple_preprocess(text):\n",
    "        if token not in gensim.parsing.preprocessing.STOPWORDS and len(token) > 3:\n",
    "            result.append(lemmatize_stemming(token))\n",
    "    return result"
   ]
  },
  {
   "cell_type": "code",
   "execution_count": 8,
   "metadata": {},
   "outputs": [
    {
     "name": "stdout",
     "output_type": "stream",
     "text": [
      "original document: \n",
      "['rain', 'helps', 'dampen', 'bushfires']\n",
      "\n",
      "\n",
      " tokenized and lemmatized document: \n",
      "['rain', 'help', 'dampen', 'bushfir']\n"
     ]
    }
   ],
   "source": [
    "doc_sample = documents[documents['index'] == 4310].values[0][0]\n",
    "\n",
    "print('original document: ')\n",
    "words = []\n",
    "for word in doc_sample.split(' '):\n",
    "    words.append(word)\n",
    "print(words)\n",
    "print('\\n\\n tokenized and lemmatized document: ')\n",
    "print(preprocess(doc_sample))"
   ]
  },
  {
   "cell_type": "code",
   "execution_count": 9,
   "metadata": {},
   "outputs": [],
   "source": [
    "processed_docs = documents['headline_text'].map(preprocess)\n"
   ]
  },
  {
   "cell_type": "code",
   "execution_count": 10,
   "metadata": {},
   "outputs": [
    {
     "data": {
      "text/plain": [
       "0            [decid, communiti, broadcast, licenc]\n",
       "1                               [wit, awar, defam]\n",
       "2           [call, infrastructur, protect, summit]\n",
       "3                      [staff, aust, strike, rise]\n",
       "4             [strike, affect, australian, travel]\n",
       "5               [ambiti, olsson, win, tripl, jump]\n",
       "6           [antic, delight, record, break, barca]\n",
       "7    [aussi, qualifi, stosur, wast, memphi, match]\n",
       "8            [aust, address, secur, council, iraq]\n",
       "9                         [australia, lock, timet]\n",
       "Name: headline_text, dtype: object"
      ]
     },
     "execution_count": 10,
     "metadata": {},
     "output_type": "execute_result"
    }
   ],
   "source": [
    "processed_docs[:10]\n"
   ]
  },
  {
   "cell_type": "markdown",
   "metadata": {},
   "source": [
    "Bag of words on the dataset¶\n"
   ]
  },
  {
   "cell_type": "code",
   "execution_count": 11,
   "metadata": {},
   "outputs": [],
   "source": [
    "dictionary = gensim.corpora.Dictionary(processed_docs)\n"
   ]
  },
  {
   "cell_type": "code",
   "execution_count": 12,
   "metadata": {},
   "outputs": [
    {
     "name": "stdout",
     "output_type": "stream",
     "text": [
      "0 broadcast\n",
      "1 communiti\n",
      "2 decid\n",
      "3 licenc\n",
      "4 awar\n",
      "5 defam\n",
      "6 wit\n",
      "7 call\n",
      "8 infrastructur\n",
      "9 protect\n",
      "10 summit\n",
      "11 aust\n",
      "12 rise\n",
      "13 staff\n",
      "14 strike\n",
      "15 affect\n",
      "16 australian\n",
      "17 travel\n",
      "18 ambiti\n",
      "19 jump\n",
      "20 olsson\n",
      "21 tripl\n",
      "22 win\n",
      "23 antic\n",
      "24 barca\n",
      "25 break\n"
     ]
    }
   ],
   "source": [
    "count = 0\n",
    "for k, v in dictionary.iteritems():\n",
    "    print(k, v)\n",
    "    count += 1\n",
    "    if count > 25:\n",
    "        break"
   ]
  },
  {
   "cell_type": "code",
   "execution_count": 13,
   "metadata": {},
   "outputs": [],
   "source": [
    "dictionary.filter_extremes(no_below=15, no_above=1, keep_n=100000)\n"
   ]
  },
  {
   "cell_type": "code",
   "execution_count": 14,
   "metadata": {},
   "outputs": [
    {
     "data": {
      "text/plain": [
       "[(69, 1), (104, 1), (449, 1), (3153, 1)]"
      ]
     },
     "execution_count": 14,
     "metadata": {},
     "output_type": "execute_result"
    }
   ],
   "source": [
    "\n",
    "bow_corpus = [dictionary.doc2bow(doc) for doc in processed_docs]\n",
    "bow_corpus[4310]"
   ]
  },
  {
   "cell_type": "code",
   "execution_count": 15,
   "metadata": {},
   "outputs": [
    {
     "name": "stdout",
     "output_type": "stream",
     "text": [
      "Word 69 (\"bushfir\") appears 1 time.\n",
      "Word 104 (\"help\") appears 1 time.\n",
      "Word 449 (\"rain\") appears 1 time.\n",
      "Word 3153 (\"dampen\") appears 1 time.\n"
     ]
    }
   ],
   "source": [
    "bow_doc_4310 = bow_corpus[4310]\n",
    "\n",
    "for i in range(len(bow_doc_4310)):\n",
    "    print(\"Word {} (\\\"{}\\\") appears {} time.\".format(bow_doc_4310[i][0], \n",
    "                                                     dictionary[bow_doc_4310[i][0]], \n",
    "                                                     bow_doc_4310[i][1]))"
   ]
  },
  {
   "cell_type": "markdown",
   "metadata": {},
   "source": [
    "TF-IDF"
   ]
  },
  {
   "cell_type": "code",
   "execution_count": 16,
   "metadata": {},
   "outputs": [],
   "source": [
    "from gensim import corpora, models\n",
    "\n",
    "tfidf = models.TfidfModel(bow_corpus)"
   ]
  },
  {
   "cell_type": "code",
   "execution_count": 17,
   "metadata": {},
   "outputs": [],
   "source": [
    "corpus_tfidf = tfidf[bow_corpus]"
   ]
  },
  {
   "cell_type": "code",
   "execution_count": 18,
   "metadata": {},
   "outputs": [
    {
     "name": "stdout",
     "output_type": "stream",
     "text": [
      "[(0, 0.5718774623442047),\n",
      " (1, 0.40111507607293295),\n",
      " (2, 0.4924062908021152),\n",
      " (3, 0.5192291484385875)]\n"
     ]
    }
   ],
   "source": [
    "\n",
    "from pprint import pprint\n",
    "\n",
    "for doc in corpus_tfidf:\n",
    "    pprint(doc)\n",
    "    break"
   ]
  },
  {
   "cell_type": "markdown",
   "metadata": {},
   "source": [
    "Running LDA using Bag of Words¶\n"
   ]
  },
  {
   "cell_type": "code",
   "execution_count": 19,
   "metadata": {},
   "outputs": [],
   "source": [
    "lda_model = gensim.models.LdaMulticore(bow_corpus, num_topics=10, id2word=dictionary, passes=2, workers=2)\n"
   ]
  },
  {
   "cell_type": "code",
   "execution_count": 20,
   "metadata": {},
   "outputs": [
    {
     "name": "stdout",
     "output_type": "stream",
     "text": [
      "Topic: 0 \n",
      "Words: 0.078*\"polic\" + 0.033*\"charg\" + 0.028*\"court\" + 0.027*\"face\" + 0.020*\"probe\" + 0.019*\"death\" + 0.018*\"murder\" + 0.018*\"investig\" + 0.016*\"jail\" + 0.013*\"drug\"\n",
      "Topic: 1 \n",
      "Words: 0.036*\"council\" + 0.029*\"iraq\" + 0.027*\"plan\" + 0.016*\"warn\" + 0.012*\"govt\" + 0.011*\"leader\" + 0.011*\"develop\" + 0.010*\"resid\" + 0.010*\"chang\" + 0.010*\"say\"\n",
      "Topic: 2 \n",
      "Words: 0.027*\"crash\" + 0.025*\"continu\" + 0.017*\"final\" + 0.017*\"strike\" + 0.014*\"train\" + 0.013*\"market\" + 0.013*\"aussi\" + 0.013*\"search\" + 0.013*\"water\" + 0.012*\"forc\"\n",
      "Topic: 3 \n",
      "Words: 0.030*\"boost\" + 0.021*\"test\" + 0.019*\"servic\" + 0.015*\"tsunami\" + 0.015*\"health\" + 0.012*\"break\" + 0.011*\"north\" + 0.010*\"look\" + 0.009*\"govt\" + 0.009*\"fund\"\n",
      "Topic: 4 \n",
      "Words: 0.015*\"lead\" + 0.012*\"south\" + 0.012*\"award\" + 0.011*\"england\" + 0.011*\"india\" + 0.011*\"effort\" + 0.010*\"honour\" + 0.010*\"move\" + 0.008*\"indonesia\" + 0.008*\"fire\"\n",
      "Topic: 5 \n",
      "Words: 0.048*\"kill\" + 0.029*\"attack\" + 0.023*\"rise\" + 0.015*\"bomb\" + 0.013*\"iraqi\" + 0.012*\"cost\" + 0.012*\"toll\" + 0.010*\"blast\" + 0.010*\"soldier\" + 0.009*\"injur\"\n",
      "Topic: 6 \n",
      "Words: 0.027*\"govt\" + 0.021*\"minist\" + 0.020*\"urg\" + 0.013*\"chief\" + 0.013*\"rule\" + 0.012*\"target\" + 0.010*\"tour\" + 0.009*\"busi\" + 0.009*\"mayor\" + 0.009*\"prompt\"\n",
      "Topic: 7 \n",
      "Words: 0.020*\"australia\" + 0.020*\"world\" + 0.017*\"record\" + 0.017*\"miss\" + 0.014*\"play\" + 0.014*\"take\" + 0.013*\"prison\" + 0.012*\"win\" + 0.012*\"race\" + 0.010*\"titl\"\n",
      "Topic: 8 \n",
      "Words: 0.021*\"fund\" + 0.014*\"indigen\" + 0.012*\"gold\" + 0.012*\"abus\" + 0.011*\"child\" + 0.011*\"get\" + 0.011*\"communiti\" + 0.011*\"govt\" + 0.011*\"council\" + 0.011*\"clear\"\n",
      "Topic: 9 \n",
      "Words: 0.033*\"claim\" + 0.026*\"hospit\" + 0.018*\"return\" + 0.014*\"fear\" + 0.013*\"elect\" + 0.012*\"nation\" + 0.012*\"home\" + 0.012*\"park\" + 0.011*\"worker\" + 0.011*\"price\"\n"
     ]
    }
   ],
   "source": [
    "for idx, topic in lda_model.print_topics(-1):\n",
    "    print('Topic: {} \\nWords: {}'.format(idx, topic))"
   ]
  },
  {
   "cell_type": "code",
   "execution_count": 21,
   "metadata": {},
   "outputs": [],
   "source": [
    "lda_model_tfidf = gensim.models.LdaMulticore(corpus_tfidf, num_topics=10, id2word=dictionary, passes=2, workers=4)"
   ]
  },
  {
   "cell_type": "code",
   "execution_count": 22,
   "metadata": {},
   "outputs": [
    {
     "name": "stdout",
     "output_type": "stream",
     "text": [
      "Topic: 0 Word: 0.013*\"fund\" + 0.013*\"govt\" + 0.009*\"boost\" + 0.008*\"council\" + 0.008*\"plan\" + 0.008*\"health\" + 0.008*\"servic\" + 0.008*\"region\" + 0.008*\"urg\" + 0.007*\"group\"\n",
      "Topic: 1 Word: 0.008*\"kill\" + 0.007*\"soldier\" + 0.007*\"polic\" + 0.006*\"doubl\" + 0.006*\"driver\" + 0.006*\"speed\" + 0.005*\"warrior\" + 0.005*\"chopper\" + 0.004*\"iraq\" + 0.004*\"beazley\"\n",
      "Topic: 2 Word: 0.016*\"miss\" + 0.014*\"search\" + 0.008*\"polic\" + 0.006*\"doubt\" + 0.006*\"aceh\" + 0.006*\"indonesia\" + 0.006*\"toll\" + 0.006*\"death\" + 0.005*\"continu\" + 0.005*\"export\"\n",
      "Topic: 3 Word: 0.007*\"england\" + 0.007*\"world\" + 0.006*\"test\" + 0.006*\"australia\" + 0.005*\"break\" + 0.005*\"pakistan\" + 0.005*\"hostag\" + 0.005*\"hill\" + 0.005*\"chelsea\" + 0.004*\"team\"\n",
      "Topic: 4 Word: 0.014*\"crash\" + 0.012*\"polic\" + 0.008*\"charg\" + 0.008*\"die\" + 0.008*\"fatal\" + 0.008*\"stab\" + 0.007*\"murder\" + 0.007*\"investig\" + 0.006*\"woman\" + 0.006*\"bail\"\n",
      "Topic: 5 Word: 0.008*\"bodi\" + 0.008*\"blaze\" + 0.007*\"child\" + 0.007*\"abus\" + 0.007*\"court\" + 0.006*\"jail\" + 0.006*\"firefight\" + 0.006*\"polic\" + 0.006*\"appeal\" + 0.005*\"sentenc\"\n",
      "Topic: 6 Word: 0.010*\"polic\" + 0.009*\"charg\" + 0.007*\"face\" + 0.007*\"court\" + 0.006*\"assault\" + 0.006*\"emerg\" + 0.005*\"gold\" + 0.004*\"long\" + 0.004*\"theft\" + 0.004*\"escap\"\n",
      "Topic: 7 Word: 0.008*\"plan\" + 0.007*\"centr\" + 0.006*\"council\" + 0.006*\"govt\" + 0.006*\"market\" + 0.006*\"care\" + 0.006*\"green\" + 0.006*\"latham\" + 0.005*\"issu\" + 0.005*\"teacher\"\n",
      "Topic: 8 Word: 0.009*\"kill\" + 0.007*\"palestinian\" + 0.006*\"forc\" + 0.006*\"isra\" + 0.005*\"govern\" + 0.005*\"gaza\" + 0.005*\"israel\" + 0.005*\"iraq\" + 0.005*\"iraqi\" + 0.005*\"plan\"\n",
      "Topic: 9 Word: 0.017*\"tsunami\" + 0.008*\"shoot\" + 0.005*\"dead\" + 0.005*\"warn\" + 0.005*\"death\" + 0.005*\"wind\" + 0.005*\"bird\" + 0.005*\"troop\" + 0.005*\"bushfir\" + 0.005*\"iraq\"\n"
     ]
    }
   ],
   "source": [
    "for idx, topic in lda_model_tfidf.print_topics(-1):\n",
    "    print('Topic: {} Word: {}'.format(idx, topic))"
   ]
  },
  {
   "cell_type": "markdown",
   "metadata": {},
   "source": [
    "Classification of the topics\n",
    "Performance evaluation by classifying sample document using LDA Bag of Words model"
   ]
  },
  {
   "cell_type": "code",
   "execution_count": 23,
   "metadata": {},
   "outputs": [
    {
     "name": "stdout",
     "output_type": "stream",
     "text": [
      "\n",
      "Score: 0.30225178599357605\t \n",
      "Topic: 0.027*\"govt\" + 0.021*\"minist\" + 0.020*\"urg\" + 0.013*\"chief\" + 0.013*\"rule\" + 0.012*\"target\" + 0.010*\"tour\" + 0.009*\"busi\" + 0.009*\"mayor\" + 0.009*\"prompt\"\n",
      "\n",
      "Score: 0.28869834542274475\t \n",
      "Topic: 0.030*\"boost\" + 0.021*\"test\" + 0.019*\"servic\" + 0.015*\"tsunami\" + 0.015*\"health\" + 0.012*\"break\" + 0.011*\"north\" + 0.010*\"look\" + 0.009*\"govt\" + 0.009*\"fund\"\n",
      "\n",
      "Score: 0.26903730630874634\t \n",
      "Topic: 0.078*\"polic\" + 0.033*\"charg\" + 0.028*\"court\" + 0.027*\"face\" + 0.020*\"probe\" + 0.019*\"death\" + 0.018*\"murder\" + 0.018*\"investig\" + 0.016*\"jail\" + 0.013*\"drug\"\n",
      "\n",
      "Score: 0.020004281774163246\t \n",
      "Topic: 0.027*\"crash\" + 0.025*\"continu\" + 0.017*\"final\" + 0.017*\"strike\" + 0.014*\"train\" + 0.013*\"market\" + 0.013*\"aussi\" + 0.013*\"search\" + 0.013*\"water\" + 0.012*\"forc\"\n",
      "\n",
      "Score: 0.0200033001601696\t \n",
      "Topic: 0.021*\"fund\" + 0.014*\"indigen\" + 0.012*\"gold\" + 0.012*\"abus\" + 0.011*\"child\" + 0.011*\"get\" + 0.011*\"communiti\" + 0.011*\"govt\" + 0.011*\"council\" + 0.011*\"clear\"\n",
      "\n",
      "Score: 0.020002031698822975\t \n",
      "Topic: 0.020*\"australia\" + 0.020*\"world\" + 0.017*\"record\" + 0.017*\"miss\" + 0.014*\"play\" + 0.014*\"take\" + 0.013*\"prison\" + 0.012*\"win\" + 0.012*\"race\" + 0.010*\"titl\"\n",
      "\n",
      "Score: 0.020001497119665146\t \n",
      "Topic: 0.015*\"lead\" + 0.012*\"south\" + 0.012*\"award\" + 0.011*\"england\" + 0.011*\"india\" + 0.011*\"effort\" + 0.010*\"honour\" + 0.010*\"move\" + 0.008*\"indonesia\" + 0.008*\"fire\"\n",
      "\n",
      "Score: 0.02000078186392784\t \n",
      "Topic: 0.036*\"council\" + 0.029*\"iraq\" + 0.027*\"plan\" + 0.016*\"warn\" + 0.012*\"govt\" + 0.011*\"leader\" + 0.011*\"develop\" + 0.010*\"resid\" + 0.010*\"chang\" + 0.010*\"say\"\n",
      "\n",
      "Score: 0.020000578835606575\t \n",
      "Topic: 0.033*\"claim\" + 0.026*\"hospit\" + 0.018*\"return\" + 0.014*\"fear\" + 0.013*\"elect\" + 0.012*\"nation\" + 0.012*\"home\" + 0.012*\"park\" + 0.011*\"worker\" + 0.011*\"price\"\n",
      "\n",
      "Score: 0.020000118762254715\t \n",
      "Topic: 0.048*\"kill\" + 0.029*\"attack\" + 0.023*\"rise\" + 0.015*\"bomb\" + 0.013*\"iraqi\" + 0.012*\"cost\" + 0.012*\"toll\" + 0.010*\"blast\" + 0.010*\"soldier\" + 0.009*\"injur\"\n"
     ]
    }
   ],
   "source": [
    "for index, score in sorted(lda_model[bow_corpus[4310]], key=lambda tup: -1*tup[1]):\n",
    "    print(\"\\nScore: {}\\t \\nTopic: {}\".format(score, lda_model.print_topic(index, 10)))"
   ]
  },
  {
   "cell_type": "markdown",
   "metadata": {},
   "source": [
    "Performance evaluation by classifying sample document using LDA TF-IDF model¶\n"
   ]
  },
  {
   "cell_type": "code",
   "execution_count": 24,
   "metadata": {},
   "outputs": [
    {
     "name": "stdout",
     "output_type": "stream",
     "text": [
      "\n",
      "Score: 0.5611538887023926\t \n",
      "Topic: 0.017*\"tsunami\" + 0.008*\"shoot\" + 0.005*\"dead\" + 0.005*\"warn\" + 0.005*\"death\" + 0.005*\"wind\" + 0.005*\"bird\" + 0.005*\"troop\" + 0.005*\"bushfir\" + 0.005*\"iraq\"\n",
      "\n",
      "Score: 0.2788211405277252\t \n",
      "Topic: 0.008*\"plan\" + 0.007*\"centr\" + 0.006*\"council\" + 0.006*\"govt\" + 0.006*\"market\" + 0.006*\"care\" + 0.006*\"green\" + 0.006*\"latham\" + 0.005*\"issu\" + 0.005*\"teacher\"\n",
      "\n",
      "Score: 0.02000528760254383\t \n",
      "Topic: 0.014*\"crash\" + 0.012*\"polic\" + 0.008*\"charg\" + 0.008*\"die\" + 0.008*\"fatal\" + 0.008*\"stab\" + 0.007*\"murder\" + 0.007*\"investig\" + 0.006*\"woman\" + 0.006*\"bail\"\n",
      "\n",
      "Score: 0.02000509202480316\t \n",
      "Topic: 0.013*\"fund\" + 0.013*\"govt\" + 0.009*\"boost\" + 0.008*\"council\" + 0.008*\"plan\" + 0.008*\"health\" + 0.008*\"servic\" + 0.008*\"region\" + 0.008*\"urg\" + 0.007*\"group\"\n",
      "\n",
      "Score: 0.020004358142614365\t \n",
      "Topic: 0.008*\"bodi\" + 0.008*\"blaze\" + 0.007*\"child\" + 0.007*\"abus\" + 0.007*\"court\" + 0.006*\"jail\" + 0.006*\"firefight\" + 0.006*\"polic\" + 0.006*\"appeal\" + 0.005*\"sentenc\"\n",
      "\n",
      "Score: 0.020003244280815125\t \n",
      "Topic: 0.010*\"polic\" + 0.009*\"charg\" + 0.007*\"face\" + 0.007*\"court\" + 0.006*\"assault\" + 0.006*\"emerg\" + 0.005*\"gold\" + 0.004*\"long\" + 0.004*\"theft\" + 0.004*\"escap\"\n",
      "\n",
      "Score: 0.02000228874385357\t \n",
      "Topic: 0.016*\"miss\" + 0.014*\"search\" + 0.008*\"polic\" + 0.006*\"doubt\" + 0.006*\"aceh\" + 0.006*\"indonesia\" + 0.006*\"toll\" + 0.006*\"death\" + 0.005*\"continu\" + 0.005*\"export\"\n",
      "\n",
      "Score: 0.0200018510222435\t \n",
      "Topic: 0.008*\"kill\" + 0.007*\"soldier\" + 0.007*\"polic\" + 0.006*\"doubl\" + 0.006*\"driver\" + 0.006*\"speed\" + 0.005*\"warrior\" + 0.005*\"chopper\" + 0.004*\"iraq\" + 0.004*\"beazley\"\n",
      "\n",
      "Score: 0.02000158652663231\t \n",
      "Topic: 0.007*\"england\" + 0.007*\"world\" + 0.006*\"test\" + 0.006*\"australia\" + 0.005*\"break\" + 0.005*\"pakistan\" + 0.005*\"hostag\" + 0.005*\"hill\" + 0.005*\"chelsea\" + 0.004*\"team\"\n",
      "\n",
      "Score: 0.020001262426376343\t \n",
      "Topic: 0.009*\"kill\" + 0.007*\"palestinian\" + 0.006*\"forc\" + 0.006*\"isra\" + 0.005*\"govern\" + 0.005*\"gaza\" + 0.005*\"israel\" + 0.005*\"iraq\" + 0.005*\"iraqi\" + 0.005*\"plan\"\n"
     ]
    }
   ],
   "source": [
    "for index, score in sorted(lda_model_tfidf[bow_corpus[4310]], key=lambda tup: -1*tup[1]):\n",
    "    print(\"\\nScore: {}\\t \\nTopic: {}\".format(score, lda_model_tfidf.print_topic(index, 10)))"
   ]
  },
  {
   "cell_type": "code",
   "execution_count": 25,
   "metadata": {},
   "outputs": [
    {
     "name": "stdout",
     "output_type": "stream",
     "text": [
      "Score: 0.40938445925712585\t Topic: 0.036*\"council\" + 0.029*\"iraq\" + 0.027*\"plan\" + 0.016*\"warn\" + 0.012*\"govt\"\n",
      "Score: 0.2773055136203766\t Topic: 0.027*\"crash\" + 0.025*\"continu\" + 0.017*\"final\" + 0.017*\"strike\" + 0.014*\"train\"\n",
      "Score: 0.19663643836975098\t Topic: 0.078*\"polic\" + 0.033*\"charg\" + 0.028*\"court\" + 0.027*\"face\" + 0.020*\"probe\"\n",
      "Score: 0.016668904572725296\t Topic: 0.020*\"australia\" + 0.020*\"world\" + 0.017*\"record\" + 0.017*\"miss\" + 0.014*\"play\"\n",
      "Score: 0.016667885705828667\t Topic: 0.015*\"lead\" + 0.012*\"south\" + 0.012*\"award\" + 0.011*\"england\" + 0.011*\"india\"\n",
      "Score: 0.016667800024151802\t Topic: 0.033*\"claim\" + 0.026*\"hospit\" + 0.018*\"return\" + 0.014*\"fear\" + 0.013*\"elect\"\n",
      "Score: 0.016667598858475685\t Topic: 0.030*\"boost\" + 0.021*\"test\" + 0.019*\"servic\" + 0.015*\"tsunami\" + 0.015*\"health\"\n",
      "Score: 0.016667373478412628\t Topic: 0.021*\"fund\" + 0.014*\"indigen\" + 0.012*\"gold\" + 0.012*\"abus\" + 0.011*\"child\"\n",
      "Score: 0.016667338088154793\t Topic: 0.048*\"kill\" + 0.029*\"attack\" + 0.023*\"rise\" + 0.015*\"bomb\" + 0.013*\"iraqi\"\n",
      "Score: 0.016666686162352562\t Topic: 0.027*\"govt\" + 0.021*\"minist\" + 0.020*\"urg\" + 0.013*\"chief\" + 0.013*\"rule\"\n"
     ]
    }
   ],
   "source": [
    "unseen_document = 'How a Pentagon deal became an identity crisis for Google'\n",
    "bow_vector = dictionary.doc2bow(preprocess(unseen_document))\n",
    "\n",
    "for index, score in sorted(lda_model[bow_vector], key=lambda tup: -1*tup[1]):\n",
    "    print(\"Score: {}\\t Topic: {}\".format(score, lda_model.print_topic(index, 5)))"
   ]
  },
  {
   "cell_type": "code",
   "execution_count": null,
   "metadata": {},
   "outputs": [],
   "source": []
  }
 ],
 "metadata": {
  "kernelspec": {
   "display_name": "Python 3",
   "language": "python",
   "name": "python3"
  },
  "language_info": {
   "codemirror_mode": {
    "name": "ipython",
    "version": 3
   },
   "file_extension": ".py",
   "mimetype": "text/x-python",
   "name": "python",
   "nbconvert_exporter": "python",
   "pygments_lexer": "ipython3",
   "version": "3.7.0"
  }
 },
 "nbformat": 4,
 "nbformat_minor": 2
}
